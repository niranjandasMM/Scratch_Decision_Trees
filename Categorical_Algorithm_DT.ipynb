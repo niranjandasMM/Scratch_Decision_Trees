{
 "cells": [
  {
   "cell_type": "code",
   "execution_count": 1,
   "id": "43dd1b80-bf12-424f-b65e-67b9b6b44c8d",
   "metadata": {
    "tags": []
   },
   "outputs": [],
   "source": [
    "import pandas as pd\n",
    "import numpy as np\n",
    "import matplotlib.pyplot as plt\n",
    "\n",
    "from sklearn.datasets import load_iris\n",
    "from sklearn.model_selection import train_test_split\n",
    "from _entropy import calculate_entropy\n",
    "from  _gini import calculate_gini_impurity"
   ]
  },
  {
   "cell_type": "code",
   "execution_count": 2,
   "id": "a21f67e4-0df6-4dec-98ff-451e5362d13d",
   "metadata": {
    "tags": []
   },
   "outputs": [
    {
     "data": {
      "text/html": [
       "<div>\n",
       "<style scoped>\n",
       "    .dataframe tbody tr th:only-of-type {\n",
       "        vertical-align: middle;\n",
       "    }\n",
       "\n",
       "    .dataframe tbody tr th {\n",
       "        vertical-align: top;\n",
       "    }\n",
       "\n",
       "    .dataframe thead th {\n",
       "        text-align: right;\n",
       "    }\n",
       "</style>\n",
       "<table border=\"1\" class=\"dataframe\">\n",
       "  <thead>\n",
       "    <tr style=\"text-align: right;\">\n",
       "      <th></th>\n",
       "      <th>Weather</th>\n",
       "      <th>Parents</th>\n",
       "      <th>Money</th>\n",
       "      <th>Decision</th>\n",
       "    </tr>\n",
       "  </thead>\n",
       "  <tbody>\n",
       "    <tr>\n",
       "      <th>0</th>\n",
       "      <td>Sunny</td>\n",
       "      <td>Yes</td>\n",
       "      <td>Rich</td>\n",
       "      <td>Cinema</td>\n",
       "    </tr>\n",
       "    <tr>\n",
       "      <th>1</th>\n",
       "      <td>Sunny</td>\n",
       "      <td>No</td>\n",
       "      <td>Rich</td>\n",
       "      <td>Tennis</td>\n",
       "    </tr>\n",
       "    <tr>\n",
       "      <th>2</th>\n",
       "      <td>Windy</td>\n",
       "      <td>Yes</td>\n",
       "      <td>Rich</td>\n",
       "      <td>Cinema</td>\n",
       "    </tr>\n",
       "    <tr>\n",
       "      <th>3</th>\n",
       "      <td>Rainy</td>\n",
       "      <td>Yes</td>\n",
       "      <td>Poor</td>\n",
       "      <td>Cinema</td>\n",
       "    </tr>\n",
       "    <tr>\n",
       "      <th>4</th>\n",
       "      <td>Rainy</td>\n",
       "      <td>No</td>\n",
       "      <td>Rich</td>\n",
       "      <td>Stay In</td>\n",
       "    </tr>\n",
       "    <tr>\n",
       "      <th>5</th>\n",
       "      <td>Rainy</td>\n",
       "      <td>Yes</td>\n",
       "      <td>Poor</td>\n",
       "      <td>Cinema</td>\n",
       "    </tr>\n",
       "    <tr>\n",
       "      <th>6</th>\n",
       "      <td>Windy</td>\n",
       "      <td>No</td>\n",
       "      <td>Poor</td>\n",
       "      <td>Cinema</td>\n",
       "    </tr>\n",
       "    <tr>\n",
       "      <th>7</th>\n",
       "      <td>Windy</td>\n",
       "      <td>No</td>\n",
       "      <td>Rich</td>\n",
       "      <td>Shopping</td>\n",
       "    </tr>\n",
       "    <tr>\n",
       "      <th>8</th>\n",
       "      <td>Windy</td>\n",
       "      <td>Yes</td>\n",
       "      <td>Rich</td>\n",
       "      <td>Cinema</td>\n",
       "    </tr>\n",
       "    <tr>\n",
       "      <th>9</th>\n",
       "      <td>Sunny</td>\n",
       "      <td>No</td>\n",
       "      <td>Rich</td>\n",
       "      <td>Tennis</td>\n",
       "    </tr>\n",
       "  </tbody>\n",
       "</table>\n",
       "</div>"
      ],
      "text/plain": [
       "  Weather Parents Money  Decision\n",
       "0   Sunny     Yes  Rich    Cinema\n",
       "1   Sunny      No  Rich    Tennis\n",
       "2   Windy     Yes  Rich    Cinema\n",
       "3   Rainy     Yes  Poor    Cinema\n",
       "4   Rainy      No  Rich   Stay In\n",
       "5   Rainy     Yes  Poor    Cinema\n",
       "6   Windy      No  Poor    Cinema\n",
       "7   Windy      No  Rich  Shopping\n",
       "8   Windy     Yes  Rich    Cinema\n",
       "9   Sunny      No  Rich    Tennis"
      ]
     },
     "execution_count": 2,
     "metadata": {},
     "output_type": "execute_result"
    }
   ],
   "source": [
    "cinema_tennis = pd.read_csv('cinema_shopping_tenis_decision.csv')\n",
    "cinema_tennis"
   ]
  },
  {
   "cell_type": "code",
   "execution_count": 3,
   "id": "90711056-02ee-4a02-8b89-b7186afe17df",
   "metadata": {
    "collapsed": true,
    "jupyter": {
     "outputs_hidden": true
    },
    "tags": []
   },
   "outputs": [
    {
     "data": {
      "text/html": [
       "<div>\n",
       "<style scoped>\n",
       "    .dataframe tbody tr th:only-of-type {\n",
       "        vertical-align: middle;\n",
       "    }\n",
       "\n",
       "    .dataframe tbody tr th {\n",
       "        vertical-align: top;\n",
       "    }\n",
       "\n",
       "    .dataframe thead th {\n",
       "        text-align: right;\n",
       "    }\n",
       "</style>\n",
       "<table border=\"1\" class=\"dataframe\">\n",
       "  <thead>\n",
       "    <tr style=\"text-align: right;\">\n",
       "      <th></th>\n",
       "      <th>Size (sq. ft.)</th>\n",
       "      <th>Number of Bedrooms</th>\n",
       "      <th>House Category</th>\n",
       "    </tr>\n",
       "  </thead>\n",
       "  <tbody>\n",
       "    <tr>\n",
       "      <th>0</th>\n",
       "      <td>1500</td>\n",
       "      <td>3</td>\n",
       "      <td>Small House</td>\n",
       "    </tr>\n",
       "    <tr>\n",
       "      <th>1</th>\n",
       "      <td>1800</td>\n",
       "      <td>4</td>\n",
       "      <td>Medium House</td>\n",
       "    </tr>\n",
       "    <tr>\n",
       "      <th>2</th>\n",
       "      <td>2200</td>\n",
       "      <td>3</td>\n",
       "      <td>Small House</td>\n",
       "    </tr>\n",
       "    <tr>\n",
       "      <th>3</th>\n",
       "      <td>1300</td>\n",
       "      <td>2</td>\n",
       "      <td>Small House</td>\n",
       "    </tr>\n",
       "    <tr>\n",
       "      <th>4</th>\n",
       "      <td>2500</td>\n",
       "      <td>5</td>\n",
       "      <td>Large House</td>\n",
       "    </tr>\n",
       "    <tr>\n",
       "      <th>...</th>\n",
       "      <td>...</td>\n",
       "      <td>...</td>\n",
       "      <td>...</td>\n",
       "    </tr>\n",
       "    <tr>\n",
       "      <th>95</th>\n",
       "      <td>1600</td>\n",
       "      <td>5</td>\n",
       "      <td>Large House</td>\n",
       "    </tr>\n",
       "    <tr>\n",
       "      <th>96</th>\n",
       "      <td>1400</td>\n",
       "      <td>5</td>\n",
       "      <td>Large House</td>\n",
       "    </tr>\n",
       "    <tr>\n",
       "      <th>97</th>\n",
       "      <td>2700</td>\n",
       "      <td>2</td>\n",
       "      <td>Small House</td>\n",
       "    </tr>\n",
       "    <tr>\n",
       "      <th>98</th>\n",
       "      <td>2300</td>\n",
       "      <td>3</td>\n",
       "      <td>Small House</td>\n",
       "    </tr>\n",
       "    <tr>\n",
       "      <th>99</th>\n",
       "      <td>1200</td>\n",
       "      <td>3</td>\n",
       "      <td>Small House</td>\n",
       "    </tr>\n",
       "  </tbody>\n",
       "</table>\n",
       "<p>100 rows × 3 columns</p>\n",
       "</div>"
      ],
      "text/plain": [
       "    Size (sq. ft.)  Number of Bedrooms House Category\n",
       "0             1500                   3    Small House\n",
       "1             1800                   4   Medium House\n",
       "2             2200                   3    Small House\n",
       "3             1300                   2    Small House\n",
       "4             2500                   5    Large House\n",
       "..             ...                 ...            ...\n",
       "95            1600                   5    Large House\n",
       "96            1400                   5    Large House\n",
       "97            2700                   2    Small House\n",
       "98            2300                   3    Small House\n",
       "99            1200                   3    Small House\n",
       "\n",
       "[100 rows x 3 columns]"
      ]
     },
     "execution_count": 3,
     "metadata": {},
     "output_type": "execute_result"
    }
   ],
   "source": [
    "gpt_house = pd.read_csv('gpt_house_category.csv')\n",
    "gpt_house"
   ]
  },
  {
   "cell_type": "code",
   "execution_count": 187,
   "id": "9f26cb87-41f3-4352-91bc-04b8453ed3de",
   "metadata": {
    "tags": []
   },
   "outputs": [
    {
     "name": "stdout",
     "output_type": "stream",
     "text": [
      "#############Split#################\n",
      "#############Split#################\n",
      "#############Split#################\n"
     ]
    },
    {
     "data": {
      "text/html": [
       "<div>\n",
       "<style scoped>\n",
       "    .dataframe tbody tr th:only-of-type {\n",
       "        vertical-align: middle;\n",
       "    }\n",
       "\n",
       "    .dataframe tbody tr th {\n",
       "        vertical-align: top;\n",
       "    }\n",
       "\n",
       "    .dataframe thead th {\n",
       "        text-align: right;\n",
       "    }\n",
       "</style>\n",
       "<table border=\"1\" class=\"dataframe\">\n",
       "  <thead>\n",
       "    <tr style=\"text-align: right;\">\n",
       "      <th></th>\n",
       "      <th>feature</th>\n",
       "      <th>value</th>\n",
       "      <th>prediction</th>\n",
       "    </tr>\n",
       "  </thead>\n",
       "  <tbody>\n",
       "    <tr>\n",
       "      <th>0</th>\n",
       "      <td>Parents</td>\n",
       "      <td>Yes</td>\n",
       "      <td>Cinema</td>\n",
       "    </tr>\n",
       "    <tr>\n",
       "      <th>1</th>\n",
       "      <td>Weather</td>\n",
       "      <td>Sunny</td>\n",
       "      <td>Tennis</td>\n",
       "    </tr>\n",
       "    <tr>\n",
       "      <th>2</th>\n",
       "      <td>Weather</td>\n",
       "      <td>Rainy</td>\n",
       "      <td>Stay In</td>\n",
       "    </tr>\n",
       "    <tr>\n",
       "      <th>3</th>\n",
       "      <td>Money</td>\n",
       "      <td>Poor</td>\n",
       "      <td>Cinema</td>\n",
       "    </tr>\n",
       "    <tr>\n",
       "      <th>4</th>\n",
       "      <td>Money</td>\n",
       "      <td>Rich</td>\n",
       "      <td>Shopping</td>\n",
       "    </tr>\n",
       "  </tbody>\n",
       "</table>\n",
       "</div>"
      ],
      "text/plain": [
       "   feature  value prediction\n",
       "0  Parents    Yes     Cinema\n",
       "1  Weather  Sunny     Tennis\n",
       "2  Weather  Rainy    Stay In\n",
       "3    Money   Poor     Cinema\n",
       "4    Money   Rich   Shopping"
      ]
     },
     "execution_count": 187,
     "metadata": {},
     "output_type": "execute_result"
    }
   ],
   "source": [
    "import pandas as pd\n",
    "\n",
    "def split_based_on_gini_impurity(data, target, used_features=None):\n",
    "    print(\"#############Split#################\")\n",
    "    lowest_impurity = calculate_gini_impurity(data, target)\n",
    "\n",
    "    min_key, min_value = min(lowest_impurity.items(), key=lambda x: x[1])\n",
    "    # print(lowest_impurity)\n",
    "    # print(f\"Next split based on feature: {min_key}, Gini Impurity: {min_value}\")\n",
    "    unique_values = data[min_key].unique()\n",
    "\n",
    "    data_splits = {value: data[data[min_key] == value] for value in unique_values}\n",
    "\n",
    "    splits = []\n",
    "    \n",
    "    for i, split_df in enumerate(data_splits.values(), 1):\n",
    "        unique_values = split_df[target].unique()\n",
    "        if len(unique_values) > 1:\n",
    "            subtree_splits = split_based_on_gini_impurity(split_df, target, used_features)\n",
    "            splits.extend(subtree_splits)\n",
    "        else:\n",
    "            # display(split_df.values)\n",
    "            key_str = \"-\".join(str(val) for val in unique_values.tolist())\n",
    "            split_dict = {'feature': min_key, 'value': split_df[min_key].values[0], 'prediction': unique_values[0]}\n",
    "            splits.append(split_dict)\n",
    "    \n",
    "    return splits\n",
    "\n",
    "decision_tree_splits = split_based_on_gini_impurity(data=cinema_tennis, target='Decision')\n",
    "\n",
    "# Convert the splits to a DataFrame\n",
    "decision_tree_df = pd.DataFrame(decision_tree_splits)\n",
    "\n",
    "decision_tree_df"
   ]
  },
  {
   "cell_type": "code",
   "execution_count": null,
   "id": "b01af38d-eca9-4135-87e8-5a6d9ea9a7f1",
   "metadata": {
    "tags": []
   },
   "outputs": [],
   "source": []
  },
  {
   "cell_type": "code",
   "execution_count": 90,
   "id": "a677872f-71d4-4081-a06d-bfcc6680a8e9",
   "metadata": {
    "tags": []
   },
   "outputs": [
    {
     "name": "stdout",
     "output_type": "stream",
     "text": [
      "a [age=90]\n",
      "├── b [age=65]\n",
      "└── c [age=60]\n"
     ]
    }
   ],
   "source": [
    "from bigtree import Node\n",
    "\n",
    "a = Node(\"a\", age=90)\n",
    "b = Node(\"b\", age=65, parent=a)\n",
    "c = Node(\"c\", age=60, parent=a)\n",
    "\n",
    "a.children\n",
    "# (Node(/a/b, age=65), Node(/a/c, age=60))\n",
    "\n",
    "a.depth, b.depth\n",
    "# # (1, 2)\n",
    "\n",
    "a.max_depth\n",
    "# # 2\n",
    "\n",
    "a.show(attr_list=[\"age\"])"
   ]
  },
  {
   "cell_type": "code",
   "execution_count": 91,
   "id": "7b7f9cad-a947-49fc-99f3-8b7d359b4de2",
   "metadata": {
    "tags": []
   },
   "outputs": [
    {
     "name": "stdout",
     "output_type": "stream",
     "text": [
      "a\n",
      "├── b\n",
      "│   ├── d\n",
      "│   └── e\n",
      "└── c\n"
     ]
    }
   ],
   "source": [
    "from bigtree import list_to_tree\n",
    "\n",
    "path_list = [\"a/b/d\", \"a/b/e\", \"a/c\"]\n",
    "\n",
    "root = list_to_tree(path_list)\n",
    "\n",
    "root.show()"
   ]
  },
  {
   "cell_type": "code",
   "execution_count": 94,
   "id": "c7407cea-b53a-4799-99e4-4e208055c62d",
   "metadata": {
    "tags": []
   },
   "outputs": [
    {
     "name": "stdout",
     "output_type": "stream",
     "text": [
      "a [age=90]\n",
      "├── b [age=65]\n",
      "│   ├── d [age=40]\n",
      "│   └── e [age=35]\n",
      "└── c [age=60]\n"
     ]
    }
   ],
   "source": [
    "from bigtree import dict_to_tree\n",
    "\n",
    "path_dict = {\n",
    "    \"a\": {\"age\": 90},\n",
    "    \"a/b\": {\"age\": 65},\n",
    "    \"a/c\": {\"age\": 60},\n",
    "    \"a/b/d\": {\"age\": 40},\n",
    "    \"a/b/e\": {\"age\": 35},\n",
    "}\n",
    "root = dict_to_tree(path_dict)\n",
    "\n",
    "root.show(attr_list=[\"age\"])"
   ]
  },
  {
   "cell_type": "code",
   "execution_count": 95,
   "id": "9fc925ea-3046-4b66-a9b4-31b4592741a7",
   "metadata": {
    "tags": []
   },
   "outputs": [
    {
     "name": "stdout",
     "output_type": "stream",
     "text": [
      "a [age=90]\n",
      "├── b [age=65]\n",
      "│   ├── d [age=40]\n",
      "│   └── e [age=35]\n",
      "└── c [age=60]\n"
     ]
    }
   ],
   "source": [
    "import pandas as pd\n",
    "from bigtree import dataframe_to_tree\n",
    "\n",
    "path_data = pd.DataFrame(\n",
    "    [\n",
    "        [\"a\", 90],\n",
    "        [\"a/b\", 65],\n",
    "        [\"a/c\", 60],\n",
    "        [\"a/b/d\", 40],\n",
    "        [\"a/b/e\", 35],\n",
    "    ],\n",
    "    columns=[\"PATH\", \"age\"],\n",
    ")\n",
    "root = dataframe_to_tree(path_data)\n",
    "\n",
    "root.show(attr_list=[\"age\"])"
   ]
  },
  {
   "cell_type": "code",
   "execution_count": 98,
   "id": "97efd32c-778e-433e-94ac-5dabb38eb5ce",
   "metadata": {
    "tags": []
   },
   "outputs": [
    {
     "name": "stdout",
     "output_type": "stream",
     "text": [
      "a [age=90]\n",
      "├── b [age=65]\n",
      "│   └── d [age=40]\n",
      "└── c [age=60]\n"
     ]
    },
    {
     "data": {
      "text/plain": [
       "(Node(/a, age=90), Node(/a/b, age=65), Node(/a/c, age=60))"
      ]
     },
     "execution_count": 98,
     "metadata": {},
     "output_type": "execute_result"
    }
   ],
   "source": [
    "from bigtree import Node, find, findall\n",
    "\n",
    "root = Node(\"a\", age=90)\n",
    "b = Node(\"b\", age=65, parent=root)\n",
    "c = Node(\"c\", age=60, parent=root)\n",
    "d = Node(\"d\", age=40, parent=b)\n",
    "\n",
    "root.show(attr_list=[\"age\"])\n",
    "\n",
    "find(root, lambda node: node.age == 65)\n",
    "# Node(/a/b, age=65)\n",
    "\n",
    "findall(root, lambda node: node.age >= 60)\n",
    "# (Node(/a, age=90), Node(/a/b, age=65), Node(/a/c, age=60))"
   ]
  },
  {
   "cell_type": "code",
   "execution_count": null,
   "id": "092aca72-658a-4b14-9d44-65a6f03c5a09",
   "metadata": {},
   "outputs": [],
   "source": []
  }
 ],
 "metadata": {
  "kernelspec": {
   "display_name": "Python 3 (ipykernel)",
   "language": "python",
   "name": "python3"
  },
  "language_info": {
   "codemirror_mode": {
    "name": "ipython",
    "version": 3
   },
   "file_extension": ".py",
   "mimetype": "text/x-python",
   "name": "python",
   "nbconvert_exporter": "python",
   "pygments_lexer": "ipython3",
   "version": "3.9.0"
  }
 },
 "nbformat": 4,
 "nbformat_minor": 5
}
